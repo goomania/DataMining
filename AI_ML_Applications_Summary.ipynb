{
  "nbformat": 4,
  "nbformat_minor": 0,
  "metadata": {
    "colab": {
      "name": "AI/ML Applications Summary.ipynb",
      "provenance": [],
      "collapsed_sections": [],
      "authorship_tag": "ABX9TyPWq37yAtIWyE3V+3u5uzys",
      "include_colab_link": true
    },
    "kernelspec": {
      "name": "python3",
      "display_name": "Python 3"
    },
    "language_info": {
      "name": "python"
    }
  },
  "cells": [
    {
      "cell_type": "markdown",
      "metadata": {
        "id": "view-in-github",
        "colab_type": "text"
      },
      "source": [
        "<a href=\"https://colab.research.google.com/github/goomania/DataMining/blob/master/AI_ML_Applications_Summary.ipynb\" target=\"_parent\"><img src=\"https://colab.research.google.com/assets/colab-badge.svg\" alt=\"Open In Colab\"/></a>"
      ]
    },
    {
      "cell_type": "code",
      "metadata": {
        "id": "e7FLLeZR5Z2d"
      },
      "source": [
        ""
      ],
      "execution_count": null,
      "outputs": []
    },
    {
      "cell_type": "markdown",
      "metadata": {
        "id": "zXEPmhaj5hGo"
      },
      "source": [
        "## AI in Education\n",
        "\n",
        "- [Can A.I. Grade Your Next Test](https://www.nytimes.com/2021/07/20/technology/ai-education-neural-networks.html?searchResultPosition=15)\n",
        "  - implement neural network\n"
      ]
    },
    {
      "cell_type": "markdown",
      "metadata": {
        "id": "5DndlzJC9CjQ"
      },
      "source": [
        "## GPT-3\n",
        "\n",
        "- [Meet GPT-3. It Has Learned to Code (and Blog and Argue).](https://www.nytimes.com/2020/11/24/science/artificial-intelligence-ai-gpt3.html)"
      ]
    }
  ]
}